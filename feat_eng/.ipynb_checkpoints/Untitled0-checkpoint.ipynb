{
 "metadata": {
  "name": "",
  "signature": "sha256:34dc3cadcd19b7f442921f55f59c446fbe5a1c8acf40f84ee119af789f309950"
 },
 "nbformat": 3,
 "nbformat_minor": 0,
 "worksheets": []
}