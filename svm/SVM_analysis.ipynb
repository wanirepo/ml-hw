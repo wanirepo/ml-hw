{
 "metadata": {
  "name": "",
  "signature": "sha256:244f55e2d2b29a74097a787842ce367c484b6fe421ebea47391326038dfb8e25"
 },
 "nbformat": 3,
 "nbformat_minor": 0,
 "worksheets": [
  {
   "cells": [
    {
     "cell_type": "heading",
     "level": 1,
     "metadata": {},
     "source": [
      "SVM_Analysis"
     ]
    },
    {
     "cell_type": "markdown",
     "metadata": {},
     "source": [
      "Machine Learning-Spring 2015 (Choong-Wan Woo)"
     ]
    },
    {
     "cell_type": "heading",
     "level": 4,
     "metadata": {},
     "source": [
      "1. Use the scikit implementation of SVMs to train a classifier to distinguish 3's from 8's."
     ]
    },
    {
     "cell_type": "markdown",
     "metadata": {},
     "source": [
      "Done. See https://github.com/wanirepo/ml-hw/blob/master/svm/svm2.py"
     ]
    },
    {
     "cell_type": "heading",
     "level": 4,
     "metadata": {},
     "source": [
      "2. Try at least five values of the regularization parameter C and at least two kernels."
     ]
    },
    {
     "cell_type": "markdown",
     "metadata": {},
     "source": [
      "As you can see below, I ran SVMs with a linear kernel with five different C values (C=1,3,5,10,20) and with a polynomial kernel (degree = 2) with the same C values. Interestingly, with the linear kernel, accuracy decreases as C increases, but with the polynomial kernel, accuracy increases as C increases.  "
     ]
    },
    {
     "cell_type": "code",
     "collapsed": false,
     "input": [
      "run svm2.py --C=1 --kernel='linear'"
     ],
     "language": "python",
     "metadata": {},
     "outputs": [
      {
       "output_type": "stream",
       "stream": "stdout",
       "text": [
        "C: 1.0, kernel: linear\n",
        "accuracy = 96.81% ***************\n"
       ]
      }
     ],
     "prompt_number": 21
    },
    {
     "cell_type": "code",
     "collapsed": false,
     "input": [
      "run svm2.py --C=3 --kernel='linear'"
     ],
     "language": "python",
     "metadata": {},
     "outputs": [
      {
       "output_type": "stream",
       "stream": "stdout",
       "text": [
        "C: 3.0, kernel: linear\n",
        "accuracy = 96.67% ***************\n"
       ]
      }
     ],
     "prompt_number": 22
    },
    {
     "cell_type": "code",
     "collapsed": false,
     "input": [
      "run svm2.py --C=5 --kernel='linear'"
     ],
     "language": "python",
     "metadata": {},
     "outputs": [
      {
       "output_type": "stream",
       "stream": "stdout",
       "text": [
        "C: 5.0, kernel: linear\n",
        "accuracy = 96.47% ***************\n"
       ]
      }
     ],
     "prompt_number": 25
    },
    {
     "cell_type": "code",
     "collapsed": false,
     "input": [
      "run svm2.py --C=10 --kernel='linear'"
     ],
     "language": "python",
     "metadata": {},
     "outputs": [
      {
       "output_type": "stream",
       "stream": "stdout",
       "text": [
        "C: 10.0, kernel: linear\n",
        "accuracy = 96.37% ***************\n"
       ]
      }
     ],
     "prompt_number": 26
    },
    {
     "cell_type": "code",
     "collapsed": false,
     "input": [
      "run svm2.py --C=20 --kernel='linear'"
     ],
     "language": "python",
     "metadata": {},
     "outputs": [
      {
       "output_type": "stream",
       "stream": "stdout",
       "text": [
        "C: 20.0, kernel: linear\n",
        "accuracy = 96.08% ***************\n"
       ]
      }
     ],
     "prompt_number": 27
    },
    {
     "cell_type": "code",
     "collapsed": false,
     "input": [
      "run svm2.py --C=1 --kernel='poly' --degree=2"
     ],
     "language": "python",
     "metadata": {},
     "outputs": [
      {
       "output_type": "stream",
       "stream": "stdout",
       "text": [
        "C: 1.0, kernel: poly, degree: 2, gamma: 0.0, coef0: 0.0\n",
        "accuracy = 95.68% ***************\n"
       ]
      }
     ],
     "prompt_number": 28
    },
    {
     "cell_type": "code",
     "collapsed": false,
     "input": [
      "run svm2.py --C=3 --kernel='poly' --degree=2"
     ],
     "language": "python",
     "metadata": {},
     "outputs": [
      {
       "output_type": "stream",
       "stream": "stdout",
       "text": [
        "C: 3.0, kernel: poly, degree: 2, gamma: 0.0, coef0: 0.0\n",
        "accuracy = 97.11% ***************\n"
       ]
      }
     ],
     "prompt_number": 29
    },
    {
     "cell_type": "code",
     "collapsed": false,
     "input": [
      "run svm2.py --C=5 --kernel='poly' --degree=2"
     ],
     "language": "python",
     "metadata": {},
     "outputs": [
      {
       "output_type": "stream",
       "stream": "stdout",
       "text": [
        "C: 5.0, kernel: poly, degree: 2, gamma: 0.0, coef0: 0.0\n",
        "accuracy = 97.50% ***************\n"
       ]
      }
     ],
     "prompt_number": 30
    },
    {
     "cell_type": "code",
     "collapsed": false,
     "input": [
      "run svm2.py --C=10 --kernel='poly' --degree=2"
     ],
     "language": "python",
     "metadata": {},
     "outputs": [
      {
       "output_type": "stream",
       "stream": "stdout",
       "text": [
        "C: 10.0, kernel: poly, degree: 2, gamma: 0.0, coef0: 0.0\n",
        "accuracy = 97.89% ***************\n"
       ]
      }
     ],
     "prompt_number": 31
    },
    {
     "cell_type": "code",
     "collapsed": false,
     "input": [
      "run svm2.py --C=20 --kernel='poly' --degree=2"
     ],
     "language": "python",
     "metadata": {},
     "outputs": [
      {
       "output_type": "stream",
       "stream": "stdout",
       "text": [
        "C: 20.0, kernel: poly, degree: 2, gamma: 0.0, coef0: 0.0\n",
        "accuracy = 98.23% ***************\n"
       ]
      }
     ],
     "prompt_number": 32
    },
    {
     "cell_type": "heading",
     "level": 4,
     "metadata": {},
     "source": [
      "3. Give examples of support vectors with a linear kernel."
     ]
    },
    {
     "cell_type": "markdown",
     "metadata": {},
     "source": [
      "Here, I'm providing two examples for each class. "
     ]
    },
    {
     "cell_type": "code",
     "collapsed": false,
     "input": [
      "%matplotlib inline"
     ],
     "language": "python",
     "metadata": {},
     "outputs": [],
     "prompt_number": 1
    },
    {
     "cell_type": "code",
     "collapsed": false,
     "input": [
      "run svm2.py --C=1 --kernel='linear' --sv_examples=True"
     ],
     "language": "python",
     "metadata": {},
     "outputs": [
      {
       "output_type": "stream",
       "stream": "stdout",
       "text": [
        "C: 1.0, kernel: linear\n",
        "accuracy = 96.81% ***************\n"
       ]
      },
      {
       "metadata": {},
       "output_type": "display_data",
       "png": "[encoded data removed]",
       "text": [
        "<matplotlib.figure.Figure at 0x104483110>"
       ]
      },
      {
       "metadata": {},
       "output_type": "display_data",
       "png": "[encoded data removed]",
       "text": [
        "<matplotlib.figure.Figure at 0x1091bb190>"
       ]
      },
      {
       "metadata": {},
       "output_type": "display_data",
       "png": "[encoded data removed]",
       "text": [
        "<matplotlib.figure.Figure at 0x109212390>"
       ]
      },
      {
       "metadata": {},
       "output_type": "display_data",
       "png": "[encoded data removed]",
       "text": [
        "<matplotlib.figure.Figure at 0x1092e1c50>"
       ]
      }
     ],
     "prompt_number": 3
    }
   ],
   "metadata": {}
  }
 ]
}