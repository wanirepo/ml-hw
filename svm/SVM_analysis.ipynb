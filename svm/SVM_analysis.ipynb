{
 "metadata": {
  "name": "",
  "signature": "sha256:eab7ac0cbf996d80d11aedc16cec54f63e40fef6453784f5796fc9becad26e22"
 },
 "nbformat": 3,
 "nbformat_minor": 0,
 "worksheets": [
  {
   "cells": [
    {
     "cell_type": "heading",
     "level": 1,
     "metadata": {},
     "source": [
      "SVM: Analysis"
     ]
    },
    {
     "cell_type": "markdown",
     "metadata": {},
     "source": [
      "Machine Learning-Spring 2015 (Choong-Wan Woo)"
     ]
    },
    {
     "cell_type": "heading",
     "level": 4,
     "metadata": {},
     "source": [
      "1. Use the scikit implementation of support vector machines to train a classifier to distinguish 3's from 8's."
     ]
    },
    {
     "cell_type": "markdown",
     "metadata": {},
     "source": [
      "Done. See https://github.com/wanirepo/ml-hw/blob/master/svm/svm2.py"
     ]
    },
    {
     "cell_type": "heading",
     "level": 4,
     "metadata": {},
     "source": [
      "2. Try at least five values of the regularization parameter C and at least two kernels."
     ]
    },
    {
     "cell_type": "code",
     "collapsed": false,
     "input": [
      "run svm2.py --C=1 --kernel='linear'"
     ],
     "language": "python",
     "metadata": {},
     "outputs": [
      {
       "output_type": "stream",
       "stream": "stdout",
       "text": [
        "**BASIC SETTINGS **********************\n",
        "C: 1.0, kernel: linear\n",
        "**PERFORMANCE **********************\n",
        "accuracy = 96.81% ***************\n"
       ]
      }
     ],
     "prompt_number": 5
    },
    {
     "cell_type": "code",
     "collapsed": false,
     "input": [
      "run svm2.py --C=5 --kernel='linear'"
     ],
     "language": "python",
     "metadata": {},
     "outputs": [
      {
       "output_type": "stream",
       "stream": "stdout",
       "text": [
        "**BASIC SETTINGS **********************\n",
        "C: 5.0, kernel: linear\n",
        "**PERFORMANCE **********************\n",
        "accuracy = 96.47% ***************\n"
       ]
      }
     ],
     "prompt_number": 6
    },
    {
     "cell_type": "code",
     "collapsed": false,
     "input": [
      "run svm2.py --C=10 --kernel='linear'"
     ],
     "language": "python",
     "metadata": {},
     "outputs": [
      {
       "output_type": "stream",
       "stream": "stdout",
       "text": [
        "**BASIC SETTINGS **********************\n",
        "C: 10.0, kernel: linear\n",
        "**PERFORMANCE **********************\n",
        "accuracy = 96.37% ***************\n"
       ]
      }
     ],
     "prompt_number": 7
    },
    {
     "cell_type": "code",
     "collapsed": false,
     "input": [
      "run svm2.py --C=1 --kernel='poly' --degree=2"
     ],
     "language": "python",
     "metadata": {},
     "outputs": [
      {
       "output_type": "stream",
       "stream": "stdout",
       "text": [
        "**BASIC SETTINGS **********************\n",
        "C: 1.0, kernel: poly\n",
        "**ADDITIONAL SETTINGS **********************\n",
        "degree: 2, gamma: 0.0, coef0: 0.0\n",
        "**PERFORMANCE **********************\n",
        "accuracy = 95.68% ***************\n"
       ]
      }
     ],
     "prompt_number": 10
    },
    {
     "cell_type": "code",
     "collapsed": false,
     "input": [
      "run svm2.py --C=5 --kernel='poly' --degree=2"
     ],
     "language": "python",
     "metadata": {},
     "outputs": [
      {
       "output_type": "stream",
       "stream": "stdout",
       "text": [
        "**BASIC SETTINGS **********************\n",
        "C: 5.0, kernel: poly\n",
        "**ADDITIONAL SETTINGS **********************\n",
        "degree: 2, gamma: 0.0, coef0: 0.0\n",
        "**PERFORMANCE **********************\n",
        "accuracy = 97.50% ***************\n"
       ]
      }
     ],
     "prompt_number": 11
    },
    {
     "cell_type": "code",
     "collapsed": false,
     "input": [
      "run svm2.py --C=10 --kernel='poly' --degree=2"
     ],
     "language": "python",
     "metadata": {},
     "outputs": [
      {
       "output_type": "stream",
       "stream": "stdout",
       "text": [
        "**BASIC SETTINGS **********************\n",
        "C: 10.0, kernel: poly\n",
        "**ADDITIONAL SETTINGS **********************\n",
        "degree: 2, gamma: 0.0, coef0: 0.0\n",
        "**PERFORMANCE **********************\n",
        "accuracy = 97.89% ***************\n"
       ]
      }
     ],
     "prompt_number": 12
    },
    {
     "cell_type": "heading",
     "level": 4,
     "metadata": {},
     "source": [
      "3. Give examples of support vectors with a linear kernel."
     ]
    },
    {
     "cell_type": "code",
     "collapsed": false,
     "input": [
      "%matplotlib inline"
     ],
     "language": "python",
     "metadata": {},
     "outputs": [],
     "prompt_number": 13
    },
    {
     "cell_type": "code",
     "collapsed": false,
     "input": [
      "run svm2.py --C=1 --kernel='linear' --sv_examples=True"
     ],
     "language": "python",
     "metadata": {},
     "outputs": [
      {
       "output_type": "stream",
       "stream": "stdout",
       "text": [
        "Data limit: 400\n",
        "**BASIC SETTINGS **********************"
       ]
      },
      {
       "output_type": "stream",
       "stream": "stdout",
       "text": [
        "\n",
        "C: 1.0, kernel: linear\n",
        "**PERFORMANCE **********************\n",
        "accuracy = 93.77% ***************\n"
       ]
      },
      {
       "metadata": {},
       "output_type": "display_data",
       "png": "[encoded data removed]",
       "text": [
        "<matplotlib.figure.Figure at 0x107716fd0>"
       ]
      },
      {
       "metadata": {},
       "output_type": "display_data",
       "png": "[encoded data removed]",
       "text": [
        "<matplotlib.figure.Figure at 0x107ef00d0>"
       ]
      }
     ],
     "prompt_number": 17
    }
   ],
   "metadata": {}
  }
 ]
}